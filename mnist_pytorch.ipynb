{
 "cells": [
  {
   "cell_type": "markdown",
   "metadata": {},
   "source": [
    "## PyTorch MNIST tutorial\n",
    "\n",
    "Let's train a model on MNIST handwritten digit dataset."
   ]
  },
  {
   "cell_type": "code",
   "execution_count": 1,
   "metadata": {},
   "outputs": [],
   "source": [
    "from torchvision import datasets, transforms\n",
    "from torch.utils.data import DataLoader\n",
    "from torch.optim import Adam\n",
    "import torch.nn as nn\n",
    "import torch\n",
    "import matplotlib.pyplot as plt\n",
    "import numpy as np"
   ]
  },
  {
   "cell_type": "markdown",
   "metadata": {},
   "source": [
    "First we need to prepare our training and testing data. Training(Testing) data are sometimes not formatted well, you might need other trivial data pre-processing. Here we simply download the dataset that is well-formatted."
   ]
  },
  {
   "cell_type": "code",
   "execution_count": 2,
   "metadata": {
    "collapsed": false
   },
   "outputs": [],
   "source": [
    "from torchvision import datasets, transforms\n",
    "\n",
    "# Transform PIL image to Tensor \n",
    "# It includes normalization pixel value to range of [0, 1]\n",
    "transform = transforms.Compose([transforms.ToTensor()])\n",
    "\n",
    "# MNIST dataset\n",
    "train_dataset = datasets.MNIST(root=\"./\", train=True, transform=transform, download=True)\n",
    "test_dataset = datasets.MNIST(root='./', train=False, transform=transform, download=True)"
   ]
  },
  {
   "cell_type": "markdown",
   "metadata": {},
   "source": [
    "Let us take a look at the first image (id = 0)"
   ]
  },
  {
   "cell_type": "code",
   "execution_count": 3,
   "metadata": {},
   "outputs": [
    {
     "name": "stdout",
     "output_type": "stream",
     "text": [
      "torch.Size([1, 28, 28])\ntensor(5)\n"
     ]
    }
   ],
   "source": [
    "sample_img, sample_label = train_dataset[0]\n",
    "print(sample_img.size())\n",
    "print(sample_label)"
   ]
  },
  {
   "cell_type": "markdown",
   "metadata": {},
   "source": [
    "Visualize this sample image."
   ]
  },
  {
   "cell_type": "code",
   "execution_count": 4,
   "metadata": {},
   "outputs": [],
   "source": [
    "plt.imshow(sample_img.squeeze(0).numpy() * 255, cmap='gray')\n",
    "plt.show()"
   ]
  },
  {
   "cell_type": "markdown",
   "metadata": {},
   "source": [
    "Then we need a dataloader that we iterately access our data. \n",
    "`DataLoader` handles the data in each iterations during training.\n",
    "You can set `batch_size`, `shuffle`"
   ]
  },
  {
   "cell_type": "code",
   "execution_count": 5,
   "metadata": {},
   "outputs": [],
   "source": [
    "# load the dataset into dataloader\n",
    "train_loader = DataLoader(dataset=train_dataset,\n",
    "                          batch_size=16,\n",
    "                          shuffle=True)\n",
    "test_loader = DataLoader(dataset=test_dataset,\n",
    "                         batch_size=16,\n",
    "                         shuffle=False)"
   ]
  },
  {
   "cell_type": "markdown",
   "metadata": {},
   "source": [
    "Of course, you still can modify how it access data by replace the `collate_fn` parameter\n",
    "For more infomation: https://pytorch.org/tutorials/beginner/data_loading_tutorial.html"
   ]
  },
  {
   "cell_type": "markdown",
   "metadata": {},
   "source": [
    "### Build Model\n",
    "As the dataset is ready, we are ready for building our model.\n",
    "This is a simple fully-connected model.\n",
    "It is better to modualize all your models if the structure gets more complicated."
   ]
  },
  {
   "cell_type": "code",
   "execution_count": 6,
   "metadata": {},
   "outputs": [],
   "source": [
    "# define our model\n",
    "class Model(nn.Module):\n",
    "    def __init__(self):\n",
    "        super(Model, self).__init__()\n",
    "        self.fc = nn.Sequential(\n",
    "            nn.Linear(784, 128),\n",
    "            nn.ReLU(inplace=True),\n",
    "            nn.Linear(128, 64),\n",
    "            nn.ReLU(inplace=True),\n",
    "            nn.Linear(64, 10),\n",
    "        )\n",
    "        self.output = nn.Softmax(dim=1)\n",
    "    \n",
    "    def forward(self, x):\n",
    "        # You can modify your model connection whatever you like\n",
    "        out = self.fc(x.view(-1, 28*28))\n",
    "        out = self.output(out)\n",
    "        return out"
   ]
  },
  {
   "cell_type": "markdown",
   "metadata": {},
   "source": [
    "### Start Training"
   ]
  },
  {
   "cell_type": "markdown",
   "metadata": {},
   "source": [
    "Cuda configurations: set to cuda if you have a GPU device."
   ]
  },
  {
   "cell_type": "code",
   "execution_count": 8,
   "metadata": {},
   "outputs": [],
   "source": [
    "device = torch.device('cuda')     \n",
    "# device = torch.device('cpu') for cpu"
   ]
  },
  {
   "cell_type": "markdown",
   "metadata": {},
   "source": [
    "Set up: our model, optimizer, and loss function"
   ]
  },
  {
   "cell_type": "code",
   "execution_count": 9,
   "metadata": {},
   "outputs": [],
   "source": [
    "model = Model()\n",
    "model.to(device)\n",
    "optimizer = Adam(model.parameters(), lr=0.0001)\n",
    "loss_fn = nn.CrossEntropyLoss()"
   ]
  },
  {
   "cell_type": "markdown",
   "metadata": {},
   "source": [
    "Start training!"
   ]
  },
  {
   "cell_type": "code",
   "execution_count": 10,
   "metadata": {},
   "outputs": [
    {
     "name": "stdout",
     "output_type": "stream",
     "text": [
      "Epoch: 1, Loss: 1.7010, Acc: 0.8105\n"
     ]
    },
    {
     "name": "stdout",
     "output_type": "stream",
     "text": [
      "Epoch: 2, Loss: 1.5619, Acc: 0.9135\n"
     ]
    },
    {
     "name": "stdout",
     "output_type": "stream",
     "text": [
      "Epoch: 3, Loss: 1.5459, Acc: 0.9241\n"
     ]
    },
    {
     "name": "stdout",
     "output_type": "stream",
     "text": [
      "Epoch: 4, Loss: 1.5362, Acc: 0.9329\n"
     ]
    },
    {
     "name": "stdout",
     "output_type": "stream",
     "text": [
      "Epoch: 5, Loss: 1.5291, Acc: 0.9385\n"
     ]
    },
    {
     "name": "stdout",
     "output_type": "stream",
     "text": [
      "Epoch: 6, Loss: 1.5234, Acc: 0.9433\n"
     ]
    },
    {
     "name": "stdout",
     "output_type": "stream",
     "text": [
      "Epoch: 7, Loss: 1.5186, Acc: 0.9482\n"
     ]
    },
    {
     "name": "stdout",
     "output_type": "stream",
     "text": [
      "Epoch: 8, Loss: 1.5146, Acc: 0.9513\n"
     ]
    },
    {
     "name": "stdout",
     "output_type": "stream",
     "text": [
      "Epoch: 9, Loss: 1.5112, Acc: 0.9545\n"
     ]
    },
    {
     "name": "stdout",
     "output_type": "stream",
     "text": [
      "Epoch: 10, Loss: 1.5082, Acc: 0.9576\n"
     ]
    }
   ],
   "source": [
    "# start training\n",
    "model.train()\n",
    "\n",
    "for epoch in range(10):\n",
    "    train_loss = []\n",
    "    train_acc = []\n",
    "    for _, (img, target) in enumerate(train_loader):\n",
    "        img_cuda = img.to(device)\n",
    "        target_cuda = target.to(device)\n",
    "        \n",
    "        # You can also use\n",
    "        # img_cuda = img.cuda()\n",
    "        # target_cuda = target.cuda()\n",
    "        \n",
    "        \n",
    "        optimizer.zero_grad()\n",
    "        \n",
    "        output = model(img_cuda)\n",
    "        loss = loss_fn(output, target_cuda)\n",
    "        loss.backward()\n",
    "        optimizer.step()\n",
    "        \n",
    "        predict = torch.max(output, 1)[1]\n",
    "        acc = np.mean((target_cuda == predict).numpy())\n",
    "        \n",
    "        train_acc.append(acc)\n",
    "        train_loss.append(loss.item())\n",
    "        \n",
    "    print(\"Epoch: {}, Loss: {:.4f}, Acc: {:.4f}\".format(epoch + 1, np.mean(train_loss), np.mean(train_acc)))"
   ]
  },
  {
   "cell_type": "markdown",
   "metadata": {},
   "source": [
    "Done! That is all for training."
   ]
  }
 ],
 "metadata": {},
 "nbformat": 4,
 "nbformat_minor": 0
}
